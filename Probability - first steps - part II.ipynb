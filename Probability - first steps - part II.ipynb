{
 "cells": [
  {
   "cell_type": "code",
   "execution_count": null,
   "id": "2a4bcc78-205b-4318-8c26-1d1387bbd7cd",
   "metadata": {},
   "outputs": [],
   "source": [
    "# Consider the following story:\n",
    "\n",
    "# A public health agency is studying vaccination uptake and disease outcomes among adults in a community. \n",
    "# They track two factors for each individual:\n",
    "# 1) Exposure to Public Health Campaigns (the number of informational mailers or announcements they’ve received about the vaccine).\n",
    "# 2) Prior Health Condition (whether the person has a pre-existing risk factor, like diabetes).\n",
    "# They suspect these two factors might look independent at first glance, \n",
    "# but could become conditionally dependent when one accounts for the individual’s overall health awareness. \n",
    "# They also want to train a simple model to predict who ultimately contracts the disease, \n",
    "# then measure its performance using the Area Under the ROC Curve (AUC)."
   ]
  }
 ],
 "metadata": {
  "kernelspec": {
   "display_name": "Python 3 (ipykernel)",
   "language": "python",
   "name": "python3"
  },
  "language_info": {
   "codemirror_mode": {
    "name": "ipython",
    "version": 3
   },
   "file_extension": ".py",
   "mimetype": "text/x-python",
   "name": "python",
   "nbconvert_exporter": "python",
   "pygments_lexer": "ipython3",
   "version": "3.12.4"
  }
 },
 "nbformat": 4,
 "nbformat_minor": 5
}
