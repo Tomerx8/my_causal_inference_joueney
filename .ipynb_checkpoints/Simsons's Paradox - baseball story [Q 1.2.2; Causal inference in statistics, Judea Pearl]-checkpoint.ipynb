{
 "cells": [
  {
   "cell_type": "code",
   "execution_count": null,
   "id": "e0f3b92c-0aa1-422f-b7e5-ef719f81d087",
   "metadata": {},
   "outputs": [],
   "source": [
    "# Simpsons's Paradox Exericse\n",
    "\n",
    "#  A baseball batter Tim has a better batting average than his teammate Frank. However, some\n",
    "# one notices that Frank has a better batting average than Tim against both right-handed and\n",
    "# left-handed pitchers. How can this happen?"
   ]
  },
  {
   "cell_type": "code",
   "execution_count": 10,
   "id": "5f5075e8-cac0-4ece-8643-aed11f8ef789",
   "metadata": {},
   "outputs": [
    {
     "data": {
      "text/html": [
       "<div>\n",
       "<style scoped>\n",
       "    .dataframe tbody tr th:only-of-type {\n",
       "        vertical-align: middle;\n",
       "    }\n",
       "\n",
       "    .dataframe tbody tr th {\n",
       "        vertical-align: top;\n",
       "    }\n",
       "\n",
       "    .dataframe thead th {\n",
       "        text-align: right;\n",
       "    }\n",
       "</style>\n",
       "<table border=\"1\" class=\"dataframe\">\n",
       "  <thead>\n",
       "    <tr style=\"text-align: right;\">\n",
       "      <th></th>\n",
       "      <th>pitcher_side</th>\n",
       "      <th>batter_name</th>\n",
       "      <th>hits</th>\n",
       "      <th>at_bats</th>\n",
       "      <th>success_rates</th>\n",
       "    </tr>\n",
       "  </thead>\n",
       "  <tbody>\n",
       "    <tr>\n",
       "      <th>0</th>\n",
       "      <td>L</td>\n",
       "      <td>Tim</td>\n",
       "      <td>10</td>\n",
       "      <td>55</td>\n",
       "      <td>0.181818</td>\n",
       "    </tr>\n",
       "    <tr>\n",
       "      <th>1</th>\n",
       "      <td>L</td>\n",
       "      <td>Frank</td>\n",
       "      <td>8</td>\n",
       "      <td>40</td>\n",
       "      <td>0.200000</td>\n",
       "    </tr>\n",
       "    <tr>\n",
       "      <th>2</th>\n",
       "      <td>R</td>\n",
       "      <td>Tim</td>\n",
       "      <td>90</td>\n",
       "      <td>300</td>\n",
       "      <td>0.300000</td>\n",
       "    </tr>\n",
       "    <tr>\n",
       "      <th>3</th>\n",
       "      <td>R</td>\n",
       "      <td>Frank</td>\n",
       "      <td>31</td>\n",
       "      <td>100</td>\n",
       "      <td>0.310000</td>\n",
       "    </tr>\n",
       "  </tbody>\n",
       "</table>\n",
       "</div>"
      ],
      "text/plain": [
       "  pitcher_side batter_name  hits  at_bats  success_rates\n",
       "0            L         Tim    10       55       0.181818\n",
       "1            L       Frank     8       40       0.200000\n",
       "2            R         Tim    90      300       0.300000\n",
       "3            R       Frank    31      100       0.310000"
      ]
     },
     "execution_count": 10,
     "metadata": {},
     "output_type": "execute_result"
    }
   ],
   "source": [
    "# 1. Dataset Creation\n",
    "\n",
    "import pandas as pd\n",
    "\n",
    "data = {\n",
    "    'pitcher_side': ['L', 'L', 'R', 'R'], # L (left-handed) or R (right-handed).\n",
    "    'batter_name': ['Tim', 'Frank', 'Tim', 'Frank'], # \"Tim\" or \"Frank\".\n",
    "    'hits': [10, 8, 90, 31], # number of successful hits.\n",
    "    'at_bats': [55, 40, 300, 100], # total attempts (plate appearances that count toward batting average).\n",
    "    'success_rates': [10/55, 8/40, 90/300, 31/100]\n",
    "}\n",
    "\n",
    "df = pd.DataFrame(data)\n",
    "df"
   ]
  },
  {
   "cell_type": "code",
   "execution_count": 13,
   "id": "d1dcac38-1650-44ee-bafe-049f889d7a2a",
   "metadata": {},
   "outputs": [
    {
     "name": "stdout",
     "output_type": "stream",
     "text": [
      "\n",
      "Subgroup (L/R) success rate:\n",
      "pitcher_side  batter_name\n",
      "L             Frank          0.200000\n",
      "              Tim            0.181818\n",
      "R             Frank          0.310000\n",
      "              Tim            0.300000\n",
      "Name: success_rates, dtype: float64\n"
     ]
    }
   ],
   "source": [
    "grouped = df.groupby(['pitcher_side', 'batter_name'])['success_rates'].mean()\n",
    "print(\"\\nSubgroup (L/R) success rate:\")\n",
    "print(grouped)"
   ]
  },
  {
   "cell_type": "code",
   "execution_count": null,
   "id": "207956fa-928f-4c76-93b3-5c60c34a6d16",
   "metadata": {},
   "outputs": [],
   "source": [
    "# In each subgroup, Frank has a better batting average."
   ]
  },
  {
   "cell_type": "code",
   "execution_count": 11,
   "id": "f9fd8e35-3328-47cb-bf13-2fbd0c05ee41",
   "metadata": {},
   "outputs": [
    {
     "name": "stdout",
     "output_type": "stream",
     "text": [
      "\n",
      "Overall batting averages, aggregated across L and R:\n",
      "             hits  at_bats  overall_batting_avg\n",
      "batter_name                                    \n",
      "Frank          39      140             0.278571\n",
      "Tim           100      355             0.281690\n"
     ]
    }
   ],
   "source": [
    "# Overall totals per batter. We'll ignore pitcher side and look at each batter's overall hits and at_bats combined.\n",
    "\n",
    "overall = df.groupby('batter_name')[['hits','at_bats']].sum()\n",
    "overall['overall_batting_avg'] = overall['hits']/overall['at_bats']\n",
    "print(\"\\nOverall batting averages, aggregated across L and R:\")\n",
    "print(overall)"
   ]
  },
  {
   "cell_type": "code",
   "execution_count": null,
   "id": "1200d347-27e5-4e96-82e3-a837d490aaaf",
   "metadata": {},
   "outputs": [],
   "source": [
    "# Observe the Paradox\n",
    "# Within Each Pitcher Side: Frank has the higher average (0.20 > 0.18 vs lefties, 0.31 > 0.30 vs righties).\n",
    "# Overall: Tim has a higher average (0.2817 vs 0.2786).\n",
    "# This reversal or contradiction is exactly Simpson’s Paradox.\n",
    "\n",
    "# Why Does It Happen Here?\n",
    "# Tim has many more at-bats in the right-handed group (300 attempts) compared to Frank (100 attempts).\n",
    "# The difference in batting averages against right-handers (0.31 vs. 0.30) is small, so Tim isn’t losing by much in the big group.\n",
    "# Meanwhile, Frank outperforms Tim by a bigger margin among left-handed pitchers, but fewer total attempts are in that group.\n",
    "# When you add everything up, Tim’s large volume of at-bats in the “closer” group ends up boosting his overall average slightly above Frank’s."
   ]
  }
 ],
 "metadata": {
  "kernelspec": {
   "display_name": "Python 3 (ipykernel)",
   "language": "python",
   "name": "python3"
  },
  "language_info": {
   "codemirror_mode": {
    "name": "ipython",
    "version": 3
   },
   "file_extension": ".py",
   "mimetype": "text/x-python",
   "name": "python",
   "nbconvert_exporter": "python",
   "pygments_lexer": "ipython3",
   "version": "3.12.4"
  }
 },
 "nbformat": 4,
 "nbformat_minor": 5
}
