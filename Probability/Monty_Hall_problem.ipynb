{
 "cells": [
  {
   "cell_type": "code",
   "execution_count": null,
   "id": "9e15b112-5082-48a4-baf6-c2c268037575",
   "metadata": {},
   "outputs": [],
   "source": [
    "# 1. Overview of the Monty Hall Problem\n",
    "# There are 3 doors: behind exactly 1 door is a car, and behind the other 2 doors are goats.\n",
    "# You choose a door (say Door A).\n",
    "# Monty then opens one of the other two doors, never revealing the car (He always picks a door with a goat.)\n",
    "# You need to decide: sticking with your original door or switching to the one remaining unopened door.\n",
    "\n",
    "# Goal: Figure out if switching or sticking is more likely to give you the car."
   ]
  },
  {
   "cell_type": "code",
   "execution_count": null,
   "id": "4c84410e-fd3c-45a5-9ab1-7b50b2628713",
   "metadata": {},
   "outputs": [],
   "source": [
    "# 2. Python logic\n",
    "# Simulate placing the car behind one of the 3 doors (randomly).\n",
    "# Simulate your initial choice (randomly).\n",
    "# Simulate Monty’s action of opening a goat door.\n",
    "# Identify which door you would get if you switch, and which if you stick.\n",
    "# Check whether each strategy results in winning the car.\n",
    "# Repeat many times and compute the winning probabilities for each strategy"
   ]
  },
  {
   "cell_type": "code",
   "execution_count": 4,
   "id": "d09fd38e-68d8-40cd-aef0-cb1a00868940",
   "metadata": {},
   "outputs": [],
   "source": [
    "# Set up\n",
    "\n",
    "import random\n",
    "\n",
    "doors = ['A', 'B', 'C'] # Our three doors, labaled as door A, door B and door C"
   ]
  },
  {
   "cell_type": "code",
   "execution_count": 12,
   "id": "c2a3c5b3-7fd5-4a19-a4de-bd8b208fa993",
   "metadata": {},
   "outputs": [],
   "source": [
    "# 1. Randomly place the car\n",
    "car_door = random.choice(doors) # randon.choich pick one item from [A,B,C] at random.\n",
    "\n",
    "# 2. Randomly choose a door (player choice)\n",
    "player_door = random.choice(doors)\n",
    "\n",
    "# 3. Define the remoming doors\n",
    "remining_doors = [i for i in doors if i != player_door] # this variable is a list of the two doors which aren't player_door"
   ]
  },
  {
   "cell_type": "code",
   "execution_count": 13,
   "id": "50988c28-0503-464b-9ce6-68c340769f6f",
   "metadata": {},
   "outputs": [],
   "source": [
    "# 4. Monty chooses one of the remining doors (not the player door), which must holds one of the goats.\n",
    "monty_door = None # Leave 'empty' his choise, that will be depend on remining_doors and car_doors\n",
    "for i in remining_doors:\n",
    "    if i != car_door:\n",
    "       monty_door = i\n",
    "       break"
   ]
  },
  {
   "cell_type": "code",
   "execution_count": 16,
   "id": "26ffe29f-c056-4215-9aa9-dff64b06c280",
   "metadata": {},
   "outputs": [],
   "source": [
    "# If it turns out your chosen door 'player_choice' is the car door,\n",
    "# Monty has 2 goats to choose from, so he picks randomly from them:\n",
    "if car_door == player_door:\n",
    "    monty_door = random.choice(remining_doors)"
   ]
  },
  {
   "cell_type": "code",
   "execution_count": 19,
   "id": "9587e4be-a194-4442-ba14-b3682a7ca0fa",
   "metadata": {},
   "outputs": [],
   "source": [
    "# 5. Identify the \"switch\" door\n",
    "switch_door = next(i for i in doors if i not in [monty_door, player_door])"
   ]
  },
  {
   "cell_type": "code",
   "execution_count": 24,
   "id": "62b495cb-c568-48ff-999b-3972d20f441d",
   "metadata": {},
   "outputs": [],
   "source": [
    "# 6. Check if You’d Win by Sticking vs. Switching\n",
    "stick_win = (player_door == car_door)\n",
    "switch_win = (switch_door == car_door)"
   ]
  },
  {
   "cell_type": "code",
   "execution_count": 54,
   "id": "8d2da895-f6a4-4e07-9dfb-25453f2d8774",
   "metadata": {},
   "outputs": [
    {
     "name": "stdout",
     "output_type": "stream",
     "text": [
      "Out of 10000 simulations:\n",
      " -Sticking wins = 3325 (prob ~ 0.333)\n",
      " -Swithing wins = 6675 (prob ~ 0.667)\n"
     ]
    }
   ],
   "source": [
    "# 7. Doing the sticking-switching process 10,000 times\n",
    "\n",
    "def monty_hall_simulation(num_simulations = 10000):\n",
    "    doors = ['A', 'B', 'C']\n",
    "    stick_wins = 0\n",
    "    switch_wins = 0\n",
    "\n",
    "    for _ in range(num_simulations):\n",
    "        car_door = random.choice(doors)\n",
    "        player_door = random.choice(doors)\n",
    "        remining_doors = [i for i in doors if i != player_door]\n",
    "        if car_door == player_door:\n",
    "            monty_door = random.choice(remining_doors)\n",
    "        else:\n",
    "            monty_door = [i for i in remining_doors if i != car_door][0]\n",
    "    \n",
    "        switch_door = next(i for i in doors if i not in [monty_door, player_door])\n",
    "\n",
    "    # Evaluate outcomes:\n",
    "        if player_door == car_door:\n",
    "           stick_wins += 1\n",
    "        if switch_door == car_door:\n",
    "           switch_wins += 1\n",
    "\n",
    "    print(f\"Out of {num_simulations} simulations:\")\n",
    "    print(f\" -Sticking wins = {stick_wins} (prob ~ {stick_wins / num_simulations:.3f})\")\n",
    "    print(f\" -Swithing wins = {switch_wins} (prob ~ {switch_wins / num_simulations:.3f})\")\n",
    "\n",
    "if __name__ == \"__main__\":\n",
    "    monty_hall_simulation(10000)"
   ]
  },
  {
   "cell_type": "code",
   "execution_count": 82,
   "id": "ed4cc32b-1a99-42bd-b173-c78a0c1007f7",
   "metadata": {},
   "outputs": [
    {
     "name": "stdout",
     "output_type": "stream",
     "text": [
      "While Y is the door with the car, X is the player choice and Z is Monty choice:\n",
      "\n",
      "P(Y=B ∣ X=A, Z=C) represents the probability that the car is behind door B, given that the player chose door A and Monty opened door C (which necessarily has a goat).\n",
      "In that case, the player must switch doors in order to win.\n",
      "\n",
      "P(Y=A | X=A, Z=C) represents the probability that the car is behind door A, given than ther player chose door A and Monty opened door C (which has a goat by 100%).\n",
      "In that case, the player must stick with his/her initial choice in order to win.\n",
      "\n",
      "We will start with computing P(Y=B | X=A, Z=C), following bayes' rule:\n",
      "P(Y=B | X=A, Z=C) = (P(Z=C | X=A, Y=B) * P(X=A, Y=B)) / P(Z=C | X=A)\n",
      "The denominator: P(Z=C | X=A) can be computed by the law of total probabilities:\n",
      "P(Z=C | X=A)P(Y=A) + P(Z=C | X=A)P(Y=B) + P(Z=C | X=A)P(Y=C) = (1/2 * 1/3) + (1 * 1/3) + (0 * 1/3); The denominator: = 0.5\n",
      "The numerator component: P(Z=C | X=A, Y=B) = 1; The numerator component: P(X=A, Y=B) = 1/3; The numerator = 0.33\n",
      " => P(Y=B | X=A, Z=C) = (1/3):(1/2) = 0.67\n",
      "\n",
      "Now, we will compute P(Y=A | X=A, Z=C), following bayes' rule:\n",
      "P(Y=A | X=A, Z=C) = (P(Z=C | X=A, Y=A) * P(X=A, Y=A)) / P(Z=C | X=A)\n",
      "The denominator: P(Z=C | X=A) = 0.5 as we calculate in the previous part\n",
      "The numerator component: P(Z=C | X=A, Y=A) = 1/2; The numerator component: P(X=A, Y=A) = 1/3; The numerator = 0.17\n",
      " => P(Y=A | X=A, Z=C) = (1/6):(1/2) = 0.33\n",
      "\n",
      "Hence you have a 2/3 chance that the car is behind B (not the player choice) if Monty opened C.\n",
      "Thus switching is better!\n",
      "\n"
     ]
    }
   ],
   "source": [
    "# 3. Explore the raw probabilities calculation.\n",
    "\n",
    "def monty_hall_raw_calculation():\n",
    "    \"\"\"\n",
    "    Calculate the standard Monty Hall probability equation:\n",
    "    Why switching doors has 2/3 chance to win, as described in: P(Y=B | X=A, Z=C).\n",
    "    While sticking to the initial player choice has 1/3 chane to win, as described in: P(Y=A | X=A, Z=C).\n",
    "    In a formula, it looks like:\n",
    "    P(Y=B | X=A, Z=C) >? P(Y=A | X=A, Z=C)\n",
    "    \"\"\"\n",
    "\n",
    "    print(\"While Y is the door with the car, X is the player choice and Z is Monty choice:\\n\")\n",
    "    \n",
    "    print(\"P(Y=B ∣ X=A, Z=C) represents the probability that the car is behind door B, given that the player chose door A and Monty opened door C (which necessarily has a goat).\")\n",
    "    print(\"In that case, the player must switch doors in order to win.\\n\")\n",
    "    \n",
    "    print(\"P(Y=A | X=A, Z=C) represents the probability that the car is behind door A, given than ther player chose door A and Monty opened door C (which has a goat by 100%).\")\n",
    "    print(\"In that case, the player must stick with his/her initial choice in order to win.\\n\")\n",
    "    \n",
    "    print(\"We will start with computing P(Y=B | X=A, Z=C), following bayes' rule:\")\n",
    "    print(\"P(Y=B | X=A, Z=C) = (P(Z=C | X=A, Y=B) * P(X=A, Y=B)) / P(Z=C | X=A)\")\n",
    "    print(\"The denominator: P(Z=C | X=A) can be computed by the law of total probabilities:\")\n",
    "    p_zCxA = 1/2*1/3 + 1*1/3 + 0*1/3\n",
    "    print(f\"P(Z=C | X=A)P(Y=A) + P(Z=C | X=A)P(Y=B) + P(Z=C | X=A)P(Y=C) = (1/2 * 1/3) + (1 * 1/3) + (0 * 1/3); The denominator: = {p_zCxA}\")\n",
    "    p_zCxAyB = 1 * 1/3\n",
    "    print(f\"The numerator component: P(Z=C | X=A, Y=B) = 1; The numerator component: P(X=A, Y=B) = 1/3; The numerator = {p_zCxAyB:.2f}\")\n",
    "    print(f\" => P(Y=B | X=A, Z=C) = (1/3):(1/2) = {p_zCxAyB / p_zCxA:.2f}\\n\")\n",
    "\n",
    "    print(\"Now, we will compute P(Y=A | X=A, Z=C), following bayes' rule:\")\n",
    "    print(\"P(Y=A | X=A, Z=C) = (P(Z=C | X=A, Y=A) * P(X=A, Y=A)) / P(Z=C | X=A)\")\n",
    "    print(f\"The denominator: P(Z=C | X=A) = {p_zCxA:.1f} as we calculate in the previous part\")\n",
    "    p_zCxAyA = 1/2 * 1/3\n",
    "    print(f\"The numerator component: P(Z=C | X=A, Y=A) = 1/2; The numerator component: P(X=A, Y=A) = 1/3; The numerator = {p_zCxAyA:.2f}\")\n",
    "    print(f\" => P(Y=A | X=A, Z=C) = (1/6):(1/2) = {p_zCxAyA / p_zCxA:.2f}\\n\")\n",
    "\n",
    "    print(\"Hence you have a 2/3 chance that the car is behind B (not the player choice) if Monty opened C.\")\n",
    "    print(\"Thus switching is better!\\n\")\n",
    "\n",
    "if __name__ == \"__main__\":\n",
    "    monty_hall_raw_calculation()\n",
    "    "
   ]
  },
  {
   "cell_type": "code",
   "execution_count": null,
   "id": "6427aa4e-4912-4188-949c-f8395fe025b4",
   "metadata": {},
   "outputs": [],
   "source": []
  }
 ],
 "metadata": {
  "kernelspec": {
   "display_name": "Python 3 (ipykernel)",
   "language": "python",
   "name": "python3"
  },
  "language_info": {
   "codemirror_mode": {
    "name": "ipython",
    "version": 3
   },
   "file_extension": ".py",
   "mimetype": "text/x-python",
   "name": "python",
   "nbconvert_exporter": "python",
   "pygments_lexer": "ipython3",
   "version": "3.12.4"
  }
 },
 "nbformat": 4,
 "nbformat_minor": 5
}
