{
 "cells": [
  {
   "cell_type": "code",
   "execution_count": 9,
   "id": "dc93fd7a-69dc-43f1-853e-70d2a06dfafc",
   "metadata": {},
   "outputs": [
    {
     "data": {
      "text/html": [
       "<div>\n",
       "<style scoped>\n",
       "    .dataframe tbody tr th:only-of-type {\n",
       "        vertical-align: middle;\n",
       "    }\n",
       "\n",
       "    .dataframe tbody tr th {\n",
       "        vertical-align: top;\n",
       "    }\n",
       "\n",
       "    .dataframe thead th {\n",
       "        text-align: right;\n",
       "    }\n",
       "</style>\n",
       "<table border=\"1\" class=\"dataframe\">\n",
       "  <thead>\n",
       "    <tr style=\"text-align: right;\">\n",
       "      <th></th>\n",
       "      <th>gender</th>\n",
       "      <th>highest_education_achieved</th>\n",
       "      <th>occurence</th>\n",
       "    </tr>\n",
       "  </thead>\n",
       "  <tbody>\n",
       "    <tr>\n",
       "      <th>0</th>\n",
       "      <td>Male</td>\n",
       "      <td>Never finished high school</td>\n",
       "      <td>112</td>\n",
       "    </tr>\n",
       "    <tr>\n",
       "      <th>1</th>\n",
       "      <td>Male</td>\n",
       "      <td>High school</td>\n",
       "      <td>231</td>\n",
       "    </tr>\n",
       "    <tr>\n",
       "      <th>2</th>\n",
       "      <td>Male</td>\n",
       "      <td>College</td>\n",
       "      <td>595</td>\n",
       "    </tr>\n",
       "    <tr>\n",
       "      <th>3</th>\n",
       "      <td>Male</td>\n",
       "      <td>Graduate school</td>\n",
       "      <td>242</td>\n",
       "    </tr>\n",
       "    <tr>\n",
       "      <th>4</th>\n",
       "      <td>Female</td>\n",
       "      <td>Never finished high school</td>\n",
       "      <td>136</td>\n",
       "    </tr>\n",
       "    <tr>\n",
       "      <th>5</th>\n",
       "      <td>Female</td>\n",
       "      <td>High school</td>\n",
       "      <td>189</td>\n",
       "    </tr>\n",
       "    <tr>\n",
       "      <th>6</th>\n",
       "      <td>Female</td>\n",
       "      <td>College</td>\n",
       "      <td>763</td>\n",
       "    </tr>\n",
       "    <tr>\n",
       "      <th>7</th>\n",
       "      <td>Female</td>\n",
       "      <td>Graduate school</td>\n",
       "      <td>172</td>\n",
       "    </tr>\n",
       "  </tbody>\n",
       "</table>\n",
       "</div>"
      ],
      "text/plain": [
       "   gender  highest_education_achieved  occurence\n",
       "0    Male  Never finished high school        112\n",
       "1    Male                 High school        231\n",
       "2    Male                     College        595\n",
       "3    Male             Graduate school        242\n",
       "4  Female  Never finished high school        136\n",
       "5  Female                 High school        189\n",
       "6  Female                     College        763\n",
       "7  Female             Graduate school        172"
      ]
     },
     "execution_count": 9,
     "metadata": {},
     "output_type": "execute_result"
    }
   ],
   "source": [
    "######################\n",
    "##### EXERCISE A #####\n",
    "# Basic calculations #\n",
    "######################\n",
    "\n",
    "# Consider the following table showing the relationship between gender and education level in the U.S. adult population\n",
    "\n",
    "import pandas as pd\n",
    "\n",
    "df = {\n",
    "    'gender': ['Male', 'Male', 'Male', 'Male', 'Female', 'Female', 'Female', 'Female'],\n",
    "    'highest_education_achieved' : ['Never finished high school', 'High school', 'College', 'Graduate school',\n",
    "                                   'Never finished high school', 'High school', 'College', 'Graduate school'],\n",
    "    'occurence': [112, 231, 595, 242, 136, 189, 763, 172]\n",
    "}\n",
    "\n",
    "us_adlt_pop = pd.DataFrame(data = df)\n",
    "us_adlt_pop"
   ]
  },
  {
   "cell_type": "code",
   "execution_count": 24,
   "id": "edee2dc4-c350-4059-9937-2067d9550244",
   "metadata": {},
   "outputs": [
    {
     "name": "stdout",
     "output_type": "stream",
     "text": [
      "0.1721311475409836 0.6110655737704918 0.15 0.45\n"
     ]
    }
   ],
   "source": [
    "# (a) Estimate P(High School).\n",
    "# (b) Estimate P(High School OR Female).\n",
    "# (c) Estimate P(High School | Female).\n",
    "# (d) Estimate P(Female | High School)."
   ]
  },
  {
   "cell_type": "code",
   "execution_count": 27,
   "id": "66d14b56-5d62-452e-a964-1d927ee9d356",
   "metadata": {},
   "outputs": [
    {
     "name": "stdout",
     "output_type": "stream",
     "text": [
      "P(High School): 0.1721311475409836\n",
      "P(High School OR Female): 0.6110655737704918\n",
      "P(High School | Female): 0.15\n",
      "P(Female | High School): 0.45\n"
     ]
    }
   ],
   "source": [
    "# 1) compute the total population for denominator\n",
    "total = us_adlt_pop['occurence'].sum()\n",
    "\n",
    "# 2) create boolean masks\n",
    "hs_mask = us_adlt_pop['highest_education_achieved'] == 'High school'\n",
    "female_mask = us_adlt_pop['gender'] == 'Female'\n",
    "\n",
    "## (a) Estimate P(High School)\n",
    "p_highschool = us_adlt_pop.loc[hs_mask, 'occurence'].sum() / total\n",
    "\n",
    "## (b) Estimate P(High School OR Female)\n",
    "p_highschool_or_female = us_adlt_pop.loc[hs_mask | female_mask, 'occurence'].sum() / total\n",
    "\n",
    "## (c) P(High School | Female)\n",
    "# Numerator: Occurences where \"High school\" AND \"Female\"\n",
    "# Denomonator: total occurences of \"Female\"\n",
    "p_highschool_given_female = us_adlt_pop.loc[hs_mask & female_mask, 'occurence'].sum() / us_adlt_pop.loc[female_mask, 'occurence'].sum()\n",
    "\n",
    "## (d) P(Female | High School)\n",
    "# Numerator: occurrences where \"High school\" AND \"Female\"\n",
    "# Denominator: total occurrences of \"High school\"\n",
    "p_female_given_highschool = us_adlt_pop.loc[hs_mask & female_mask, 'occurence'].sum() / us_adlt_pop.loc[hs_mask, 'occurence'].sum()\n",
    "\n",
    "# 3) print results\n",
    "print(\"P(High School):\", p_highschool)\n",
    "print(\"P(High School OR Female):\", p_highschool_or_female)\n",
    "print(\"P(High School | Female):\", p_highschool_given_female)\n",
    "print(\"P(Female | High School):\", p_female_given_highschool)"
   ]
  },
  {
   "cell_type": "code",
   "execution_count": 22,
   "id": "50a13dfa-0a4d-4f18-b962-d4cd12df4ede",
   "metadata": {},
   "outputs": [
    {
     "name": "stdout",
     "output_type": "stream",
     "text": [
      "1) Mutual exclusivity demo:\n",
      " P(A) = 0.3\n",
      " P(B) = 0.4\n",
      " P(A OR B) = 0.7 (since they can't co-occur)\n",
      "\n"
     ]
    }
   ],
   "source": [
    "###################\n",
    "### EXERCISE B ###\n",
    "##################\n",
    "\n",
    "# Mutual Exclusivity and Basic Probability Sums\n",
    "# Law of Total Probability\n",
    "# Conditional Probability and Multiplication Rule\n",
    "# Independence\n",
    "# Bayes’ Rule\n",
    "\n",
    "# 1) Mutual Exclusivity and Basic Probability\n",
    "\n",
    "# Event A: You order a vegan meal from the menu.\n",
    "# Event B: You order a steak from the menu.\n",
    "## Assume the menu ensures each person orders exactly one main dish\n",
    "\n",
    "pA = 0.30 # probability of ordering a vegan meal\n",
    "pB = 0.40 # probability of ordering a steak\n",
    "\n",
    "# P(A or B) = P(A) + P(B)\n",
    "p_A_or_B = pA + pB\n",
    "\n",
    "print(\"1) Mutual exclusivity demo:\")\n",
    "print(f\" P(A) = {pA}\")\n",
    "print(f\" P(B) = {pB}\")\n",
    "print(f\" P(A OR B) = {p_A_or_B} (since they can't co-occur)\\n\")"
   ]
  },
  {
   "cell_type": "code",
   "execution_count": 3,
   "id": "809d7878-ffa7-4074-a8ee-b7f2b24ba37e",
   "metadata": {},
   "outputs": [
    {
     "name": "stdout",
     "output_type": "stream",
     "text": [
      "2) Law of Total Probability - Defective Gadgets Example:\n",
      "  P(A) = 0.3, P(defect|A) = 0.0002\n",
      "  P(B) = 0.7, P(defect|B) = 0.0001\n",
      "  P(defect) = 0.00013\n",
      "\n"
     ]
    }
   ],
   "source": [
    "# 2) Law of Total Probability\n",
    "\n",
    "# Event A: factory A produces 30% of gadgets, defect rate = 1/5000\n",
    "# Event B: Factory B produces 70% of gadgets, defect rate = 1/100000 \n",
    "\n",
    "# What is the probability that a gadget will be defective?\n",
    "# Equation: P(defective) = P(defective | factory A) P(Factory A) + P(defective | factory B) P(Factory B)\n",
    "\n",
    "p_factoryA = 0.30 # factory A produces 30% of gadgets\n",
    "p_factoryB = 0.70 # factory B produces 70% of gadgets\n",
    "\n",
    "p_defectA = 1/5000\n",
    "p_defectB = 1/10000\n",
    "\n",
    "p_defect = p_defectA * p_factoryA + p_defectB * p_factoryB\n",
    "\n",
    "print(\"2) Law of Total Probability - Defective Gadgets Example:\")\n",
    "print(f\"  P(A) = {p_factoryA}, P(defect|A) = {p_defectA}\")\n",
    "print(f\"  P(B) = {p_factoryB}, P(defect|B) = {p_defectB}\")\n",
    "print(f\"  P(defect) = {p_defect}\\n\")"
   ]
  },
  {
   "cell_type": "code",
   "execution_count": 8,
   "id": "a9e99c94-c354-48af-8350-f6b3e18e9ae2",
   "metadata": {},
   "outputs": [
    {
     "name": "stdout",
     "output_type": "stream",
     "text": [
      "3) Conditional Probability and Multiplication Rule\n",
      " P(man) = 0.5, P(tall | man) = 0.3\n",
      " P(tall and a man) = 0.15\n",
      "\n"
     ]
    }
   ],
   "source": [
    "# 3) Conditional Probability and Multiplication Rule\n",
    "\n",
    "# Event A = Dana is tall.\n",
    "# Event B = Dana is a man.\n",
    "\n",
    "# What is the probability that Dana is a tall man (A and B = tall and a man)\n",
    "# Equation: P(A, B) = P(A | B) P(B)\n",
    "\n",
    "pB_man = 0.50 # Probability Dana is a man\n",
    "pA_given_B = 0.30 # Probability Data is tall, given 30% of men are tall\n",
    "\n",
    "pA_and_B = pA_given_B * pB_man\n",
    "\n",
    "print(\"3) Conditional Probability and Multiplication Rule\")\n",
    "print(f\" P(man) = {pB_man}, P(tall | man) = {pA_given_B}\")\n",
    "print(f\" P(tall and a man) = {pA_and_B}\\n\")"
   ]
  },
  {
   "cell_type": "code",
   "execution_count": 12,
   "id": "eae98fcc-66d9-4b9f-85c3-5f94bb300d2f",
   "metadata": {},
   "outputs": [
    {
     "name": "stdout",
     "output_type": "stream",
     "text": [
      "4) Independence Demo:\n",
      " P(A) = probability coin1 is tails ~ 0.5085\n",
      " P(B) = probability coin2 is tails ~ 0.4980\n",
      " P(A,B) = freq(coin1 = T AND coin2 = T) ~ 0.2506\n",
      " P(A)P(B) = 0.2532\n",
      "\n"
     ]
    }
   ],
   "source": [
    "# 4) Independence \n",
    "\n",
    "# Scenario: Two Coins, Checking Independence\n",
    "# Event A = Coin 1 is tailes.\n",
    "# Event B = Coin 2 is tailes.\n",
    "# Equation: P(A,B) = P(A)P(B) if A,B are independent.\n",
    "\n",
    "import numpy as np\n",
    "\n",
    "N = 10000\n",
    "np.random.seed(0) # reproducible\n",
    "\n",
    "coin1 = np.random.choice(['H','T'], size=N)\n",
    "coin2 = np.random.choice(['H','T'], size=N)\n",
    "\n",
    "pA = np.mean(coin1 == 'T') # frequency of coin1 tails\n",
    "pB = np.mean(coin2 == 'T') # frequenct of coin2 tails\n",
    "\n",
    "pA_and_pB = np.mean((coin1 == 'T') & (coin2 == 'T')) # frequency of coin1 tails AND coin2 tails\n",
    "pA_times_pB = pA * pB\n",
    "\n",
    "print (\"4) Independence Demo:\")\n",
    "print(f\" P(A) = probability coin1 is tails ~ {pA:.4f}\")\n",
    "print(f\" P(B) = probability coin2 is tails ~ {pB:.4f}\")\n",
    "print(f\" P(A,B) = freq(coin1 = T AND coin2 = T) ~ {pA_and_pB:.4f}\")\n",
    "print(f\" P(A)P(B) = {pA_times_pB:.4f}\\n\")\n",
    "\n",
    "# we expct: P(A,B) ~ P(A)P(B)"
   ]
  },
  {
   "cell_type": "code",
   "execution_count": 21,
   "id": "b5b07def-ad52-44c5-8aab-6a8897b246ee",
   "metadata": {},
   "outputs": [
    {
     "name": "stdout",
     "output_type": "stream",
     "text": [
      "5) Bayes' Rule - Medical Test Example:\n",
      " P(Disease) = 0.01, P(Test+|Disease) = 0.99, P(Test+) = 0.05\n",
      "=> P(Disease|test+) = 0.198\n",
      "\n"
     ]
    }
   ],
   "source": [
    "# 5) Bayes' Rule\n",
    "\n",
    "# Scenario: Medical test\n",
    "# Event A = Patient has the disease\n",
    "# Event B = Test result is positive\n",
    "\n",
    "# Bayes' rule: P(A | B) = (P(B | A) P(A)) / P(B)\n",
    "\n",
    "pA_disease = 0.01 # 1% prevalence\n",
    "pB_given_pA = 0.99 # 99% chance the test is positive if diseased\n",
    "pB_overall = 0.05 # 5% of tests are positives\n",
    "\n",
    "# By bayes' rule:\n",
    "pA_given_pB = pB_given_pA * pA_disease / pB_overall\n",
    "\n",
    "print(\"5) Bayes' Rule - Medical Test Example:\")\n",
    "print(f\" P(Disease) = {pA_disease}, P(Test+|Disease) = {pB_given_pA}, P(Test+) = {pB_overall}\")\n",
    "print(f\"=> P(Disease|test+) = {pA_given_pB:.3f}\\n\")"
   ]
  },
  {
   "cell_type": "code",
   "execution_count": null,
   "id": "06571112-e368-469e-8bda-806dc0eda38c",
   "metadata": {},
   "outputs": [],
   "source": []
  }
 ],
 "metadata": {
  "kernelspec": {
   "display_name": "Python 3 (ipykernel)",
   "language": "python",
   "name": "python3"
  },
  "language_info": {
   "codemirror_mode": {
    "name": "ipython",
    "version": 3
   },
   "file_extension": ".py",
   "mimetype": "text/x-python",
   "name": "python",
   "nbconvert_exporter": "python",
   "pygments_lexer": "ipython3",
   "version": "3.12.4"
  }
 },
 "nbformat": 4,
 "nbformat_minor": 5
}
